{
 "cells": [
  {
   "cell_type": "code",
   "execution_count": 1,
   "id": "70b7c05f",
   "metadata": {},
   "outputs": [],
   "source": [
    "import numpy as np\n",
    "import pandas as pd\n",
    "import re\n",
    "pd.set_option('display.max_rows', 200)\n",
    "from env import api_token"
   ]
  },
  {
   "cell_type": "markdown",
   "id": "a105d970",
   "metadata": {},
   "source": [
    "## Note for the team:\n",
    "### This notebook is a mess. I would not try to run it if I were you."
   ]
  },
  {
   "cell_type": "code",
   "execution_count": 2,
   "id": "fa39de7e",
   "metadata": {},
   "outputs": [],
   "source": [
    "import lyricsgenius as genius\n",
    "def get_lyrics(title, artist):\n",
    "    api = genius.Genius(api_token, verbose=False)\n",
    "    song = api.search_song(title, artist)\n",
    "    lyrics = song.lyrics.replace('\\n', ' ')\n",
    "    return lyrics"
   ]
  },
  {
   "cell_type": "code",
   "execution_count": 3,
   "id": "37b7c659",
   "metadata": {},
   "outputs": [],
   "source": [
    "df = pd.read_csv('songs.csv').drop(columns=['Unnamed: 0'])"
   ]
  },
  {
   "cell_type": "code",
   "execution_count": 4,
   "id": "79fec171",
   "metadata": {},
   "outputs": [],
   "source": [
    "df = df[df.lyrics.isna()]\n",
    "df = df.drop(columns=['status'])"
   ]
  },
  {
   "cell_type": "markdown",
   "id": "70e1ee7c",
   "metadata": {},
   "source": [
    "### title_2 = remove special characters and numbers\n",
    "### artist_2 = remove special characters"
   ]
  },
  {
   "cell_type": "code",
   "execution_count": 5,
   "id": "747de502",
   "metadata": {
    "scrolled": false
   },
   "outputs": [
    {
     "name": "stderr",
     "output_type": "stream",
     "text": [
      "/var/folders/zb/3lg9b5xn3831bhkh23bd5bs00000gn/T/ipykernel_35682/4312783.py:1: FutureWarning: The default value of regex will change from True to False in a future version. In addition, single character regular expressions will *not* be treated as literal strings when regex=True.\n",
      "  df['title_2'] = df.title.str.replace('.', ' ')\n"
     ]
    }
   ],
   "source": [
    "df['title_2'] = df.title.str.replace('.', ' ')\n",
    "df['title_2'] = df.title_2.str.replace(r'[^a-zA-Z\\s\\:]', '', regex=True)\n",
    "df['artist_2'] = df.artist.str.replace(r'[^a-zA-Z0-9\\s\\:]', '', regex=True)\n",
    "df.index = range(len(df))"
   ]
  },
  {
   "cell_type": "code",
   "execution_count": 6,
   "id": "094f30e3",
   "metadata": {},
   "outputs": [
    {
     "data": {
      "text/html": [
       "<div>\n",
       "<style scoped>\n",
       "    .dataframe tbody tr th:only-of-type {\n",
       "        vertical-align: middle;\n",
       "    }\n",
       "\n",
       "    .dataframe tbody tr th {\n",
       "        vertical-align: top;\n",
       "    }\n",
       "\n",
       "    .dataframe thead th {\n",
       "        text-align: right;\n",
       "    }\n",
       "</style>\n",
       "<table border=\"1\" class=\"dataframe\">\n",
       "  <thead>\n",
       "    <tr style=\"text-align: right;\">\n",
       "      <th></th>\n",
       "      <th>title</th>\n",
       "      <th>artist</th>\n",
       "      <th>date</th>\n",
       "      <th>lyrics</th>\n",
       "      <th>title_2</th>\n",
       "      <th>artist_2</th>\n",
       "    </tr>\n",
       "  </thead>\n",
       "  <tbody>\n",
       "    <tr>\n",
       "      <th>0</th>\n",
       "      <td>\"B\" Girls</td>\n",
       "      <td>Young And Restless</td>\n",
       "      <td>1990-05-05</td>\n",
       "      <td>NaN</td>\n",
       "      <td>B Girls</td>\n",
       "      <td>Young And Restless</td>\n",
       "    </tr>\n",
       "    <tr>\n",
       "      <th>1</th>\n",
       "      <td>\"Cherry Cherry\" from Hot August Night</td>\n",
       "      <td>Neil Diamond</td>\n",
       "      <td>1973-03-17</td>\n",
       "      <td>NaN</td>\n",
       "      <td>Cherry Cherry from Hot August Night</td>\n",
       "      <td>Neil Diamond</td>\n",
       "    </tr>\n",
       "    <tr>\n",
       "      <th>2</th>\n",
       "      <td>\"Having A Party\" Medley</td>\n",
       "      <td>The Ovations (Featuring Louis Williams)</td>\n",
       "      <td>1973-10-13</td>\n",
       "      <td>NaN</td>\n",
       "      <td>Having A Party Medley</td>\n",
       "      <td>The Ovations Featuring Louis Williams</td>\n",
       "    </tr>\n",
       "    <tr>\n",
       "      <th>3</th>\n",
       "      <td>\"Yep!\"</td>\n",
       "      <td>Duane Eddy His Twangy Guitar And The Rebels</td>\n",
       "      <td>1959-03-30</td>\n",
       "      <td>NaN</td>\n",
       "      <td>Yep</td>\n",
       "      <td>Duane Eddy His Twangy Guitar And The Rebels</td>\n",
       "    </tr>\n",
       "    <tr>\n",
       "      <th>4</th>\n",
       "      <td>'98 Thug Paradise</td>\n",
       "      <td>Tragedy, Capone, Infinite</td>\n",
       "      <td>1998-09-19</td>\n",
       "      <td>NaN</td>\n",
       "      <td>Thug Paradise</td>\n",
       "      <td>Tragedy Capone Infinite</td>\n",
       "    </tr>\n",
       "    <tr>\n",
       "      <th>...</th>\n",
       "      <td>...</td>\n",
       "      <td>...</td>\n",
       "      <td>...</td>\n",
       "      <td>...</td>\n",
       "      <td>...</td>\n",
       "      <td>...</td>\n",
       "    </tr>\n",
       "    <tr>\n",
       "      <th>1912</th>\n",
       "      <td>pride.is.the.devil</td>\n",
       "      <td>J. Cole &amp; Lil Baby</td>\n",
       "      <td>2021-05-29</td>\n",
       "      <td>NaN</td>\n",
       "      <td>pride is the devil</td>\n",
       "      <td>J Cole  Lil Baby</td>\n",
       "    </tr>\n",
       "    <tr>\n",
       "      <th>1913</th>\n",
       "      <td>punchin'.the.clock</td>\n",
       "      <td>J. Cole</td>\n",
       "      <td>2021-05-29</td>\n",
       "      <td>NaN</td>\n",
       "      <td>punchin the clock</td>\n",
       "      <td>J Cole</td>\n",
       "    </tr>\n",
       "    <tr>\n",
       "      <th>1914</th>\n",
       "      <td>the.climb.back</td>\n",
       "      <td>J. Cole</td>\n",
       "      <td>2021-05-29</td>\n",
       "      <td>NaN</td>\n",
       "      <td>the climb back</td>\n",
       "      <td>J Cole</td>\n",
       "    </tr>\n",
       "    <tr>\n",
       "      <th>1915</th>\n",
       "      <td>transparentsoul</td>\n",
       "      <td>Willow Featuring Travis Barker</td>\n",
       "      <td>2021-06-26</td>\n",
       "      <td>NaN</td>\n",
       "      <td>transparentsoul</td>\n",
       "      <td>Willow Featuring Travis Barker</td>\n",
       "    </tr>\n",
       "    <tr>\n",
       "      <th>1916</th>\n",
       "      <td>¿Dònde Està Santa Claus? (Where Is Santa Claus?)</td>\n",
       "      <td>Augie Rios</td>\n",
       "      <td>1958-12-15</td>\n",
       "      <td>NaN</td>\n",
       "      <td>Dnde Est Santa Claus Where Is Santa Claus</td>\n",
       "      <td>Augie Rios</td>\n",
       "    </tr>\n",
       "  </tbody>\n",
       "</table>\n",
       "<p>1917 rows × 6 columns</p>\n",
       "</div>"
      ],
      "text/plain": [
       "                                                 title  \\\n",
       "0                                            \"B\" Girls   \n",
       "1                \"Cherry Cherry\" from Hot August Night   \n",
       "2                              \"Having A Party\" Medley   \n",
       "3                                               \"Yep!\"   \n",
       "4                                    '98 Thug Paradise   \n",
       "...                                                ...   \n",
       "1912                                pride.is.the.devil   \n",
       "1913                                punchin'.the.clock   \n",
       "1914                                    the.climb.back   \n",
       "1915                                   transparentsoul   \n",
       "1916  ¿Dònde Està Santa Claus? (Where Is Santa Claus?)   \n",
       "\n",
       "                                           artist        date lyrics  \\\n",
       "0                              Young And Restless  1990-05-05    NaN   \n",
       "1                                    Neil Diamond  1973-03-17    NaN   \n",
       "2         The Ovations (Featuring Louis Williams)  1973-10-13    NaN   \n",
       "3     Duane Eddy His Twangy Guitar And The Rebels  1959-03-30    NaN   \n",
       "4                       Tragedy, Capone, Infinite  1998-09-19    NaN   \n",
       "...                                           ...         ...    ...   \n",
       "1912                           J. Cole & Lil Baby  2021-05-29    NaN   \n",
       "1913                                      J. Cole  2021-05-29    NaN   \n",
       "1914                                      J. Cole  2021-05-29    NaN   \n",
       "1915               Willow Featuring Travis Barker  2021-06-26    NaN   \n",
       "1916                                   Augie Rios  1958-12-15    NaN   \n",
       "\n",
       "                                        title_2  \\\n",
       "0                                       B Girls   \n",
       "1           Cherry Cherry from Hot August Night   \n",
       "2                         Having A Party Medley   \n",
       "3                                           Yep   \n",
       "4                                 Thug Paradise   \n",
       "...                                         ...   \n",
       "1912                         pride is the devil   \n",
       "1913                          punchin the clock   \n",
       "1914                             the climb back   \n",
       "1915                            transparentsoul   \n",
       "1916  Dnde Est Santa Claus Where Is Santa Claus   \n",
       "\n",
       "                                         artist_2  \n",
       "0                              Young And Restless  \n",
       "1                                    Neil Diamond  \n",
       "2           The Ovations Featuring Louis Williams  \n",
       "3     Duane Eddy His Twangy Guitar And The Rebels  \n",
       "4                         Tragedy Capone Infinite  \n",
       "...                                           ...  \n",
       "1912                             J Cole  Lil Baby  \n",
       "1913                                       J Cole  \n",
       "1914                                       J Cole  \n",
       "1915               Willow Featuring Travis Barker  \n",
       "1916                                   Augie Rios  \n",
       "\n",
       "[1917 rows x 6 columns]"
      ]
     },
     "execution_count": 6,
     "metadata": {},
     "output_type": "execute_result"
    }
   ],
   "source": [
    "df"
   ]
  },
  {
   "cell_type": "code",
   "execution_count": null,
   "id": "1e82a9f7",
   "metadata": {},
   "outputs": [
    {
     "name": "stdout",
     "output_type": "stream",
     "text": [
      "1.98%\t complete\r"
     ]
    }
   ],
   "source": [
    "# title_2 and artist_2\n",
    "\n",
    "for i in range(len(df)):\n",
    "    \n",
    "    title = df.iloc[[i]].title_2.values[0]\n",
    "    artist = df.iloc[[i]].artist_2.values[0]\n",
    "    \n",
    "    try:\n",
    "        df.loc[i, 'lyrics'] = get_lyrics(title, artist)\n",
    "        df.loc[i, 'error'] = False\n",
    "    except: \n",
    "        df.loc[i, 'error'] = True\n",
    "    \n",
    "    if i % 100 == 0:\n",
    "        df.to_csv('songs_2.csv')\n",
    "    \n",
    "    print(f'{round((i / len(df) * 100), 2)}%\\t complete', end='\\r')\n",
    "    \n",
    "    df.to_csv('songs_2.csv')"
   ]
  },
  {
   "cell_type": "code",
   "execution_count": null,
   "id": "0582c39b",
   "metadata": {},
   "outputs": [],
   "source": [
    "df.error.value_counts()"
   ]
  },
  {
   "cell_type": "code",
   "execution_count": null,
   "id": "e97aeaae",
   "metadata": {},
   "outputs": [],
   "source": [
    "df = pd.read_csv('songs_2.csv').drop(columns=['Unnamed: 0'])\n",
    "df = df[df.lyrics.isna()]\n",
    "df.index = range(len(df))"
   ]
  },
  {
   "cell_type": "markdown",
   "id": "0ea45bdf",
   "metadata": {},
   "source": [
    "### title_3 = everything inside quotations"
   ]
  },
  {
   "cell_type": "code",
   "execution_count": null,
   "id": "4416f656",
   "metadata": {},
   "outputs": [],
   "source": [
    "df['title_3'] = df.title.str.extract(r'\\\"(.*)\\\"')"
   ]
  },
  {
   "cell_type": "code",
   "execution_count": null,
   "id": "d9123ef3",
   "metadata": {},
   "outputs": [],
   "source": [
    "# title_3 and artist_2\n",
    "\n",
    "for i in range(len(df)):   \n",
    "    \n",
    "    # if title_3 is not null\n",
    "    if ~df.iloc[[i]].title_3.isna().values[0]:\n",
    "    \n",
    "        title = df.iloc[[i]].title_3.values[0]\n",
    "        artist = df.iloc[[i]].artist_2.values[0]\n",
    "\n",
    "        try:\n",
    "            df.loc[i, 'lyrics'] = get_lyrics(title, artist)\n",
    "            df.loc[i, 'error'] = False\n",
    "        except: \n",
    "            df.loc[i, 'error'] = True\n",
    "\n",
    "        if i % 100 == 0:\n",
    "            df.to_csv('songs_3.csv')\n",
    "    \n",
    "    print(f'{round((i / len(df) * 100), 2)}%\\t complete', end='\\r')\n",
    "    \n",
    "    df.to_csv('songs_3.csv')"
   ]
  },
  {
   "cell_type": "code",
   "execution_count": null,
   "id": "fdc7a76e",
   "metadata": {},
   "outputs": [],
   "source": [
    "df.error.value_counts()"
   ]
  },
  {
   "cell_type": "code",
   "execution_count": null,
   "id": "7b126f90",
   "metadata": {},
   "outputs": [],
   "source": [
    "df = pd.read_csv('songs_3.csv').drop(columns=['Unnamed: 0'])"
   ]
  },
  {
   "cell_type": "code",
   "execution_count": null,
   "id": "0e7d80a0",
   "metadata": {},
   "outputs": [],
   "source": [
    "df = df[df.lyrics.isna()]\n",
    "df.index = range(len(df.index))\n",
    "df.shape"
   ]
  },
  {
   "cell_type": "markdown",
   "id": "5e890e7d",
   "metadata": {},
   "source": [
    "### artist_3 = remove everything after \"Feat\""
   ]
  },
  {
   "cell_type": "code",
   "execution_count": null,
   "id": "a674c0b8",
   "metadata": {},
   "outputs": [],
   "source": [
    "df['artist_3'] = df.artist_2.str.extract(r'(.+)Feat')"
   ]
  },
  {
   "cell_type": "code",
   "execution_count": null,
   "id": "ca7d9261",
   "metadata": {},
   "outputs": [],
   "source": [
    "# title_2, artist_3\n",
    "\n",
    "for i in range(len(df)):   \n",
    "    \n",
    "    # if artist_3 is not null\n",
    "    if ~df.iloc[[i]].artist_3.isna().values[0]:\n",
    "    \n",
    "        title = df.iloc[[i]].title_2.values[0]\n",
    "        artist = df.iloc[[i]].artist_3.values[0]\n",
    "\n",
    "        try:\n",
    "            df.loc[i, 'lyrics'] = get_lyrics(title, artist)\n",
    "            df.loc[i, 'error'] = False\n",
    "        except: \n",
    "            df.loc[i, 'error'] = True\n",
    "\n",
    "        if i % 100 == 0:\n",
    "            df.to_csv('songs_4.csv')\n",
    "    \n",
    "    print(f'{round((i / len(df) * 100), 2)}%\\t complete', end='\\r')\n",
    "    \n",
    "    df.to_csv('songs_4.csv')"
   ]
  },
  {
   "cell_type": "code",
   "execution_count": null,
   "id": "b9e88d61",
   "metadata": {},
   "outputs": [],
   "source": [
    "df = pd.read_csv('songs_4.csv').drop(columns=['Unnamed: 0'])"
   ]
  },
  {
   "cell_type": "code",
   "execution_count": null,
   "id": "dc6680ff",
   "metadata": {
    "scrolled": false
   },
   "outputs": [],
   "source": [
    "df = df[~df.lyrics.isna()]\n",
    "df.index = range(len(df))"
   ]
  },
  {
   "cell_type": "code",
   "execution_count": null,
   "id": "38f7e661",
   "metadata": {},
   "outputs": [],
   "source": [
    "df.shape"
   ]
  },
  {
   "cell_type": "markdown",
   "id": "91cefdfa",
   "metadata": {},
   "source": [
    "### artist_4 = remove everything after \"With\""
   ]
  },
  {
   "cell_type": "code",
   "execution_count": null,
   "id": "ad4328c2",
   "metadata": {},
   "outputs": [],
   "source": [
    "df['artist_4'] = df.artist_2.str.extract(r'(.+)With')"
   ]
  },
  {
   "cell_type": "code",
   "execution_count": null,
   "id": "9d6dd0c2",
   "metadata": {},
   "outputs": [],
   "source": [
    "# title_2, artist_4\n",
    "\n",
    "for i in range(len(df)):   \n",
    "    \n",
    "    # if artist_4 is not null\n",
    "    if ~df.iloc[[i]].artist_4.isna().values[0]:\n",
    "    \n",
    "        title = df.iloc[[i]].title_2.values[0]\n",
    "        artist = df.iloc[[i]].artist_4.values[0]\n",
    "\n",
    "        try:\n",
    "            df.loc[i, 'lyrics'] = get_lyrics(title, artist)\n",
    "            df.loc[i, 'error'] = False\n",
    "        except: \n",
    "            df.loc[i, 'error'] = True\n",
    "\n",
    "        if i % 100 == 0:\n",
    "            df.to_csv('songs_5.csv', index=False)\n",
    "    \n",
    "    print(f'{round((i / len(df) * 100), 2)}%\\t complete', end='\\r')\n",
    "    \n",
    "    df.to_csv('songs_5.csv', index=False)"
   ]
  },
  {
   "cell_type": "code",
   "execution_count": null,
   "id": "13f6a59d",
   "metadata": {},
   "outputs": [],
   "source": [
    "df.error.value_counts()"
   ]
  },
  {
   "cell_type": "code",
   "execution_count": null,
   "id": "a091ee24",
   "metadata": {},
   "outputs": [],
   "source": [
    "df"
   ]
  },
  {
   "cell_type": "code",
   "execution_count": null,
   "id": "ca3938ce",
   "metadata": {},
   "outputs": [],
   "source": [
    "songs = pd.read_csv('songs.csv').drop(columns=['Unnamed: 0'])\n",
    "songs = songs[~songs.lyrics.isna()]\n",
    "songs.head()"
   ]
  },
  {
   "cell_type": "code",
   "execution_count": null,
   "id": "e0c5f879",
   "metadata": {},
   "outputs": [],
   "source": [
    "songs_2 = pd.read_csv('songs_2.csv').drop(columns=['Unnamed: 0'])\n",
    "songs_2 = songs_2[~songs_2.lyrics.isna()]\n",
    "songs_2.head()"
   ]
  },
  {
   "cell_type": "code",
   "execution_count": null,
   "id": "a56afe74",
   "metadata": {},
   "outputs": [],
   "source": [
    "songs_3 = pd.read_csv('songs_3.csv').drop(columns=['Unnamed: 0'])\n",
    "songs_3 = songs_3[~songs_3.lyrics.isna()]\n",
    "songs_3.head()"
   ]
  },
  {
   "cell_type": "code",
   "execution_count": null,
   "id": "05cda07d",
   "metadata": {},
   "outputs": [],
   "source": [
    "songs_4 = pd.read_csv('songs_4.csv').drop(columns=['Unnamed: 0'])\n",
    "songs_4 = songs_4[~songs_4.lyrics.isna()]\n",
    "songs_4.head()"
   ]
  },
  {
   "cell_type": "code",
   "execution_count": null,
   "id": "de0ee7f2",
   "metadata": {},
   "outputs": [],
   "source": [
    "songs_5 = pd.read_csv('songs_5.csv')\n",
    "songs_5 = songs_5[~songs_5.lyrics.isna()]\n",
    "songs_5.head()"
   ]
  },
  {
   "cell_type": "code",
   "execution_count": null,
   "id": "08b5de16",
   "metadata": {},
   "outputs": [],
   "source": [
    "df = pd.concat([songs, songs_2, songs_3, songs_4, songs_5])"
   ]
  },
  {
   "cell_type": "code",
   "execution_count": null,
   "id": "4ae6f23b",
   "metadata": {},
   "outputs": [],
   "source": [
    "df.shape"
   ]
  },
  {
   "cell_type": "code",
   "execution_count": null,
   "id": "d388fcdb",
   "metadata": {},
   "outputs": [],
   "source": [
    "df.index = range(len(df))"
   ]
  },
  {
   "cell_type": "code",
   "execution_count": null,
   "id": "89cc333a",
   "metadata": {},
   "outputs": [],
   "source": [
    "from nltk.corpus import stopwords\n",
    "def remove_stopwords(text, stopword_list=stopwords.words('english')):\n",
    "    words = text.split()\n",
    "    filtered_words = [word for word in words if word not in stopword_list]\n",
    "    return ' '.join(filtered_words)"
   ]
  },
  {
   "cell_type": "code",
   "execution_count": null,
   "id": "bd10bc67",
   "metadata": {},
   "outputs": [],
   "source": [
    "# pull the title portion out of the lyrics string\n",
    "df['test_title'] = df.lyrics.str.extract(r'(.+)Lyrics')\n",
    "# clean it up\n",
    "df['test_title'] = df.test_title.str.lower()\n",
    "df['test_title'] = df.test_title.str.replace(r'[^a-zA-Z\\s\\:]', '', regex=True)\n",
    "df['test_title'] = df.test_title.str.strip()\n",
    "df['test_title'] = df.test_title.apply(remove_stopwords)\n",
    "# clean up the title to match the test title\n",
    "df['clean_title'] = df.title.str.replace(r'[^a-zA-Z\\s\\:]', '', regex=True)\n",
    "df['clean_title'] = df.clean_title.str.strip()\n",
    "df['clean_title'] = df.clean_title.str.lower()\n",
    "df['clean_title'] = df.clean_title.apply(remove_stopwords)\n"
   ]
  },
  {
   "cell_type": "code",
   "execution_count": null,
   "id": "d8e2f15c",
   "metadata": {},
   "outputs": [],
   "source": [
    "df.head(1)"
   ]
  },
  {
   "cell_type": "code",
   "execution_count": null,
   "id": "ed688f48",
   "metadata": {},
   "outputs": [],
   "source": [
    "import seaborn as sns\n",
    "import matplotlib.pyplot as plt\n",
    "plt.figure(figsize=(12,8))\n",
    "sns.histplot(df[df.clean_title != df.test_title].date)"
   ]
  },
  {
   "cell_type": "code",
   "execution_count": null,
   "id": "d50fbc51",
   "metadata": {},
   "outputs": [],
   "source": [
    "plt.figure(figsize=(12,8))\n",
    "sns.histplot(df.date)"
   ]
  },
  {
   "cell_type": "code",
   "execution_count": null,
   "id": "19c9828f",
   "metadata": {
    "scrolled": false
   },
   "outputs": [],
   "source": [
    "songs_0526 = df[df.clean_title == df.test_title]\n",
    "songs_0526 = songs_0526[['title', 'artist', 'date', 'lyrics']]\n",
    "#songs_0526.to_csv('songs_0526.csv')"
   ]
  },
  {
   "cell_type": "code",
   "execution_count": null,
   "id": "2b29dea9",
   "metadata": {},
   "outputs": [],
   "source": []
  }
 ],
 "metadata": {
  "kernelspec": {
   "display_name": "Python 3 (ipykernel)",
   "language": "python",
   "name": "python3"
  },
  "language_info": {
   "codemirror_mode": {
    "name": "ipython",
    "version": 3
   },
   "file_extension": ".py",
   "mimetype": "text/x-python",
   "name": "python",
   "nbconvert_exporter": "python",
   "pygments_lexer": "ipython3",
   "version": "3.9.7"
  }
 },
 "nbformat": 4,
 "nbformat_minor": 5
}
