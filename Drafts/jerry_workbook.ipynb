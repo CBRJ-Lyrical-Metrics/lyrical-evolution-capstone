{
 "cells": [
  {
   "cell_type": "code",
   "execution_count": 37,
   "id": "6000f56a",
   "metadata": {},
   "outputs": [],
   "source": [
    "# Typical Everydayers...\n",
    "import pandas as pd \n",
    "import numpy as np\n",
    "import seaborn as sns\n",
    "import matplotlib.pyplot as plt\n",
    "from wordcloud import WordCloud, STOPWORDS\n",
    "# Unicode, Regex, json for text digestion\n",
    "import unicodedata\n",
    "import re\n",
    "import json\n",
    "\n",
    "import datetime\n",
    "# Time formatting\n",
    "from time import strftime\n",
    "# Make deepcopy\n",
    "import copy\n",
    "\n",
    "# Modeling help...\n",
    "from sklearn.decomposition import NMF\n",
    "from sklearn.decomposition import LatentDirichletAllocation\n",
    "from sklearn.feature_extraction.text import TfidfVectorizer, CountVectorizer\n",
    "from sklearn.model_selection import train_test_split\n",
    "\n",
    "# nltk: natural language toolkit -> tokenization, stopwords\n",
    "import nltk\n",
    "from nltk.tokenize.toktok import ToktokTokenizer\n",
    "from nltk.corpus import stopwords\n",
    "from nltk.stem.porter import PorterStemmer as stemmer\n",
    "# nltk.download('stopwords')\n",
    "import nltk.sentiment\n",
    "sia = nltk.sentiment.SentimentIntensityAnalyzer()\n",
    "\n",
    "# Import prepare\n",
    "import draft_prepare as p\n",
    "\n",
    "# Quieeet!!! Y'all can't stop me now...\n",
    "import warnings\n",
    "warnings.filterwarnings('ignore')\n",
    "\n",
    "# set default style for charts\n",
    "plt.rc('figure', figsize=(13, 7))\n",
    "plt.style.use('fivethirtyeight')\n",
    "# change jupyter notebook setting to show all rows\n",
    "pd.set_option('display.max_rows', None)"
   ]
  },
  {
   "cell_type": "code",
   "execution_count": 2,
   "id": "ac5ce7b4",
   "metadata": {},
   "outputs": [
    {
     "data": {
      "text/plain": [
       "(23762, 5)"
      ]
     },
     "execution_count": 2,
     "metadata": {},
     "output_type": "execute_result"
    }
   ],
   "source": [
    "df = pd.read_csv('songs_0526.csv')\n",
    "df.shape"
   ]
  },
  {
   "cell_type": "markdown",
   "id": "e551bcdb",
   "metadata": {},
   "source": [
    "### Preparing the data:"
   ]
  },
  {
   "cell_type": "code",
   "execution_count": 3,
   "id": "4c23494d",
   "metadata": {},
   "outputs": [],
   "source": [
    "# df = p.model_clean(df)\n",
    "# df.head()"
   ]
  },
  {
   "cell_type": "code",
   "execution_count": 4,
   "id": "47098db9",
   "metadata": {},
   "outputs": [],
   "source": [
    "df = p.clean_df(df, extra_words = [], exclude_words = [])\n"
   ]
  },
  {
   "cell_type": "code",
   "execution_count": 5,
   "id": "cc57d11e",
   "metadata": {},
   "outputs": [],
   "source": [
    "df = p.get_topics(df)\n"
   ]
  },
  {
   "cell_type": "code",
   "execution_count": 6,
   "id": "350cbe25",
   "metadata": {},
   "outputs": [
    {
     "data": {
      "text/html": [
       "<div>\n",
       "<style scoped>\n",
       "    .dataframe tbody tr th:only-of-type {\n",
       "        vertical-align: middle;\n",
       "    }\n",
       "\n",
       "    .dataframe tbody tr th {\n",
       "        vertical-align: top;\n",
       "    }\n",
       "\n",
       "    .dataframe thead th {\n",
       "        text-align: right;\n",
       "    }\n",
       "</style>\n",
       "<table border=\"1\" class=\"dataframe\">\n",
       "  <thead>\n",
       "    <tr style=\"text-align: right;\">\n",
       "      <th></th>\n",
       "      <th>title</th>\n",
       "      <th>artist</th>\n",
       "      <th>date</th>\n",
       "      <th>lyrics</th>\n",
       "      <th>decade</th>\n",
       "      <th>character_count</th>\n",
       "      <th>word_count</th>\n",
       "      <th>sentiment</th>\n",
       "      <th>topic_name</th>\n",
       "    </tr>\n",
       "  </thead>\n",
       "  <tbody>\n",
       "    <tr>\n",
       "      <th>0</th>\n",
       "      <td>#1</td>\n",
       "      <td>Nelly</td>\n",
       "      <td>2001-10-20</td>\n",
       "      <td>uh uh uh got bring attention dirty better watc...</td>\n",
       "      <td>2000</td>\n",
       "      <td>2014</td>\n",
       "      <td>363</td>\n",
       "      <td>0.9915</td>\n",
       "      <td>sex</td>\n",
       "    </tr>\n",
       "    <tr>\n",
       "      <th>1</th>\n",
       "      <td>#9 Dream</td>\n",
       "      <td>John Lennon</td>\n",
       "      <td>1974-12-21</td>\n",
       "      <td>long ago dream dream know yes know seemed real...</td>\n",
       "      <td>1970</td>\n",
       "      <td>842</td>\n",
       "      <td>135</td>\n",
       "      <td>0.9169</td>\n",
       "      <td>love</td>\n",
       "    </tr>\n",
       "    <tr>\n",
       "      <th>2</th>\n",
       "      <td>#Beautiful</td>\n",
       "      <td>Mariah Carey Featuring Miguel</td>\n",
       "      <td>2013-05-25</td>\n",
       "      <td>ah ah beautiful ah ah beautiful hop back bike ...</td>\n",
       "      <td>2010</td>\n",
       "      <td>768</td>\n",
       "      <td>129</td>\n",
       "      <td>0.9989</td>\n",
       "      <td>lost</td>\n",
       "    </tr>\n",
       "    <tr>\n",
       "      <th>3</th>\n",
       "      <td>#SELFIE</td>\n",
       "      <td>The Chainsmokers</td>\n",
       "      <td>2014-03-15</td>\n",
       "      <td>jason table kept seeing look girl think make j...</td>\n",
       "      <td>2010</td>\n",
       "      <td>954</td>\n",
       "      <td>172</td>\n",
       "      <td>0.9218</td>\n",
       "      <td>violence</td>\n",
       "    </tr>\n",
       "    <tr>\n",
       "      <th>4</th>\n",
       "      <td>#thatPOWER</td>\n",
       "      <td>will.i.am Featuring Justin Bieber</td>\n",
       "      <td>2013-04-06</td>\n",
       "      <td>oh alive alive alive oh fly fly fly oh alive a...</td>\n",
       "      <td>2010</td>\n",
       "      <td>1238</td>\n",
       "      <td>208</td>\n",
       "      <td>0.9984</td>\n",
       "      <td>sex</td>\n",
       "    </tr>\n",
       "  </tbody>\n",
       "</table>\n",
       "</div>"
      ],
      "text/plain": [
       "        title                             artist       date  \\\n",
       "0          #1                              Nelly 2001-10-20   \n",
       "1    #9 Dream                        John Lennon 1974-12-21   \n",
       "2  #Beautiful      Mariah Carey Featuring Miguel 2013-05-25   \n",
       "3     #SELFIE                   The Chainsmokers 2014-03-15   \n",
       "4  #thatPOWER  will.i.am Featuring Justin Bieber 2013-04-06   \n",
       "\n",
       "                                              lyrics  decade  character_count  \\\n",
       "0  uh uh uh got bring attention dirty better watc...    2000             2014   \n",
       "1  long ago dream dream know yes know seemed real...    1970              842   \n",
       "2  ah ah beautiful ah ah beautiful hop back bike ...    2010              768   \n",
       "3  jason table kept seeing look girl think make j...    2010              954   \n",
       "4  oh alive alive alive oh fly fly fly oh alive a...    2010             1238   \n",
       "\n",
       "   word_count  sentiment topic_name  \n",
       "0         363     0.9915        sex  \n",
       "1         135     0.9169       love  \n",
       "2         129     0.9989       lost  \n",
       "3         172     0.9218   violence  \n",
       "4         208     0.9984        sex  "
      ]
     },
     "execution_count": 6,
     "metadata": {},
     "output_type": "execute_result"
    }
   ],
   "source": [
    "df.head()\n"
   ]
  },
  {
   "cell_type": "markdown",
   "id": "eecdfb2e",
   "metadata": {},
   "source": [
    "## Topic Modeling"
   ]
  },
  {
   "cell_type": "markdown",
   "id": "39fba184",
   "metadata": {},
   "source": [
    "#### Latent Dirichlet Allocation:"
   ]
  },
  {
   "cell_type": "code",
   "execution_count": 7,
   "id": "099cb479",
   "metadata": {},
   "outputs": [],
   "source": [
    "# # Create an instance\n",
    "# cv = CountVectorizer(max_df = .95, min_df = 2, stop_words = 'english')\n",
    "\n",
    "# # Fit and transform the lemmatized lyrics data\n",
    "# cv_fit = cv.fit_transform(df.lyrics)\n",
    "\n",
    "# print('\\nShape of the sparse matrix\\n')\n",
    "# cv_fit"
   ]
  },
  {
   "cell_type": "code",
   "execution_count": 8,
   "id": "b84fb340",
   "metadata": {},
   "outputs": [],
   "source": [
    "# # Create the instance for LDA\n",
    "# lda = LatentDirichletAllocation(n_components = 20, random_state = 42)\n",
    "\n",
    "# # Fit the vectorizer with the LDA\n",
    "# lda.fit(cv_fit)\n",
    "\n",
    "# print('Number of topics:', len(lda.components_))\n",
    "# print('Number of columns of the LDA fit', len(lda.components_[0]))"
   ]
  },
  {
   "cell_type": "code",
   "execution_count": 9,
   "id": "1878f014",
   "metadata": {},
   "outputs": [],
   "source": [
    "# feature = cv.get_feature_names()\n",
    "\n",
    "# print('Length of feature names:', len(feature))"
   ]
  },
  {
   "cell_type": "code",
   "execution_count": 10,
   "id": "d1cc0029",
   "metadata": {
    "scrolled": false
   },
   "outputs": [],
   "source": [
    "# for ind, topic in enumerate(lda.components_):\n",
    "#     print('-'*117)\n",
    "#     print('Top 50 words in topic {}'.format(ind))\n",
    "#     print('-'*117)\n",
    "#     top_50 = topic.argsort()[-50:]\n",
    "#     print([feature[i] for i in top_50], '\\n\\n')\n"
   ]
  },
  {
   "cell_type": "code",
   "execution_count": 11,
   "id": "d9e667d8",
   "metadata": {},
   "outputs": [],
   "source": [
    "# # Final df transforming cv_fit\n",
    "# df_final = lda.transform(cv_fit)\n",
    "\n",
    "# # Make copy to save original df \n",
    "# df_new = copy.deepcopy(df)\n"
   ]
  },
  {
   "cell_type": "code",
   "execution_count": 12,
   "id": "08c6fb49",
   "metadata": {},
   "outputs": [],
   "source": [
    "# print('\\nChecking the probability distribution of one text data belonging to the topic.\\n')\n",
    "\n",
    "# print('Few words from 1st row:', df.lyrics[0][:88], '\\n')\n",
    "\n",
    "# print('Probability distribution:', df_final[0])\n"
   ]
  },
  {
   "cell_type": "code",
   "execution_count": 13,
   "id": "fe258154",
   "metadata": {},
   "outputs": [],
   "source": [
    "# prob = df_final[0][df_final[0].argmax()].round(2)\n",
    "\n",
    "# print('Document belong to the topic', df_final[0].argmax(), 'with the probability of', prob)\n"
   ]
  },
  {
   "cell_type": "code",
   "execution_count": 14,
   "id": "3459c0b6",
   "metadata": {},
   "outputs": [],
   "source": [
    "# df['topic'] = df_final.argmax(axis = 1)\n",
    "\n",
    "# df_new.head()"
   ]
  },
  {
   "cell_type": "code",
   "execution_count": 15,
   "id": "58d7dcf9",
   "metadata": {},
   "outputs": [],
   "source": [
    "# # Creating a dictionary with key as topic numbers and value as topic names\n",
    "# topic_label = {0:'Jealousy', 1:'Affection', 2:'Breakup', 3:'Dance', 4:'Holiday', 5:'Nature', \n",
    "#                6:'Spanish', 7:'Transcendental', 8:'Lost', 9:'Violence', 10:'Youth', 11:'Love', 12:'Heartache', \n",
    "#                13:'Money', 14:'Affection', 15:'Sex', 16:'Dance', 17:'Good Vibes', 18:'Americana', 19:'Breakup'}\n",
    "\n",
    "# # Mapping the dictionary with the dataframe to get the labels.\n",
    "# df['topic_name'] = df['topic'].map(topic_label)\n",
    "\n",
    "# # Head of the dataframe\n",
    "# df.head(3)"
   ]
  },
  {
   "cell_type": "code",
   "execution_count": 16,
   "id": "2c1734d8",
   "metadata": {},
   "outputs": [],
   "source": [
    "# def get_topics(df):\n",
    "#     # Create an instance\n",
    "#     cv = CountVectorizer(max_df = .95, min_df = 2, stop_words = 'english')\n",
    "    \n",
    "#     # Fit and transform the lemmatized lyrics data\n",
    "#     cv_fit = cv.fit_transform(df.lyrics)\n",
    "\n",
    "#     # Create the instance for LDA\n",
    "#     lda = LatentDirichletAllocation(n_components = 20, random_state = 42)\n",
    "    \n",
    "#     # Fit the vectorizer with the LDA\n",
    "#     lda.fit(cv_fit)\n",
    "    \n",
    "#     # Pull feature names out and define as feature\n",
    "#     feature = cv.get_feature_names()\n",
    "    \n",
    "#     # Final df transforming cv_fit\n",
    "#     df_final = lda.transform(cv_fit)\n",
    "    \n",
    "# #     # Make copy to save original df \n",
    "# #     df_new = copy.deepcopy(df)\n",
    "    \n",
    "#     prob = df_final[0][df_final[0].argmax()].round(2)\n",
    "    \n",
    "#     # Assign the opics tp the dataframe\n",
    "#     df['topic'] = df_final.argmax(axis = 1)\n",
    "    \n",
    "#     # Creating a dictionary with key as topic numbers and value as topic names\n",
    "#     topic_label = {0:'Love', 1:'Kind Goodbye', 2:'Appeasing', 3:'Club', 4:'Country Life', 5:'Resentful Goodbye', \n",
    "#                    6:'Lost', 7:'Hard Times', 8:'Nature', 9:'Miracles', 10:'Money', 11:'Dance', 12:'Fun', \n",
    "#                    13:'Dance', 14:'Weekend', 15:'Transcendental', 16:'Sex', 17:'Summer', 18:'Spanish', 19:'Affection'}\n",
    "    \n",
    "#     # Mapping the dictionary with the dataframe to get the labels.\n",
    "#     df['topic_name'] = df['topic'].map(topic_label)\n",
    "# #     # Drop the unnecessary duplicate column\n",
    "# #     df = pd.concat([df, df_new['topic_name']], axis = 1)\n",
    "#     # Drop unnecessary column 'topic'\n",
    "#     df = df.drop(columns = ['topic'])\n",
    "#     return df"
   ]
  },
  {
   "cell_type": "code",
   "execution_count": 17,
   "id": "93b941a1",
   "metadata": {
    "scrolled": false
   },
   "outputs": [],
   "source": [
    "# get_topics(df)\n",
    "# df.head()"
   ]
  },
  {
   "cell_type": "markdown",
   "id": "3eba4f69",
   "metadata": {},
   "source": [
    "### Sentiment"
   ]
  },
  {
   "cell_type": "code",
   "execution_count": 18,
   "id": "dbcd6510",
   "metadata": {},
   "outputs": [],
   "source": [
    "# df['sentiment'] = df.lyrics.apply(lambda msg: sia.polarity_scores(msg)['compound'])"
   ]
  },
  {
   "cell_type": "code",
   "execution_count": 19,
   "id": "2517474b",
   "metadata": {},
   "outputs": [],
   "source": [
    "# sentiments = sia\n",
    "# df[\"positive\"] = [sentiments.polarity_scores(i)[\"pos\"] for i in df[\"lyrics\"]]\n",
    "# df[\"negative\"] = [sentiments.polarity_scores(i)[\"neg\"] for i in df[\"lyrics\"]]\n",
    "# df[\"neutral\"] = [sentiments.polarity_scores(i)[\"neu\"] for i in df[\"lyrics\"]]\n",
    "# df['compound'] = [sentiments.polarity_scores(i)[\"compound\"] for i in data[\"lyrics\"]]\n",
    "\n",
    "# scores = df[\"lyrics\"].values\n",
    "# sentiment = []\n",
    "# for score in scores:\n",
    "#     if score >= 0.05 :\n",
    "#         sentiment.append('positive')\n",
    "#     elif score <= -0.05 :\n",
    "#         sentiment.append('negative')\n",
    "#     else:\n",
    "#         sentiment.append('neutral')\n",
    "# data[\"sentiment_class\"] = sentiment"
   ]
  },
  {
   "cell_type": "markdown",
   "id": "5b4fae0a",
   "metadata": {},
   "source": [
    "## Exploration"
   ]
  },
  {
   "cell_type": "code",
   "execution_count": 20,
   "id": "64cb7be1",
   "metadata": {},
   "outputs": [
    {
     "data": {
      "text/html": [
       "<div>\n",
       "<style scoped>\n",
       "    .dataframe tbody tr th:only-of-type {\n",
       "        vertical-align: middle;\n",
       "    }\n",
       "\n",
       "    .dataframe tbody tr th {\n",
       "        vertical-align: top;\n",
       "    }\n",
       "\n",
       "    .dataframe thead th {\n",
       "        text-align: right;\n",
       "    }\n",
       "</style>\n",
       "<table border=\"1\" class=\"dataframe\">\n",
       "  <thead>\n",
       "    <tr style=\"text-align: right;\">\n",
       "      <th></th>\n",
       "      <th>title</th>\n",
       "      <th>artist</th>\n",
       "      <th>date</th>\n",
       "      <th>lyrics</th>\n",
       "      <th>decade</th>\n",
       "      <th>character_count</th>\n",
       "      <th>word_count</th>\n",
       "      <th>sentiment</th>\n",
       "      <th>topic_name</th>\n",
       "    </tr>\n",
       "  </thead>\n",
       "  <tbody>\n",
       "    <tr>\n",
       "      <th>1453</th>\n",
       "      <td>BBO (Bad Bitches Only)</td>\n",
       "      <td>Migos Featuring 21 Savage</td>\n",
       "      <td>2018-02-10</td>\n",
       "      <td>buddah bless beat ap iced tennis chain iced wh...</td>\n",
       "      <td>2010</td>\n",
       "      <td>2122</td>\n",
       "      <td>378</td>\n",
       "      <td>-0.9999</td>\n",
       "      <td>sex</td>\n",
       "    </tr>\n",
       "    <tr>\n",
       "      <th>15627</th>\n",
       "      <td>Rack City</td>\n",
       "      <td>Tyga</td>\n",
       "      <td>2011-12-10</td>\n",
       "      <td>rack rack city bitch rack rack rack city bitch...</td>\n",
       "      <td>2010</td>\n",
       "      <td>2108</td>\n",
       "      <td>372</td>\n",
       "      <td>-0.9998</td>\n",
       "      <td>money</td>\n",
       "    </tr>\n",
       "    <tr>\n",
       "      <th>17474</th>\n",
       "      <td>Snake Skin</td>\n",
       "      <td>Trippie Redd</td>\n",
       "      <td>2019-08-24</td>\n",
       "      <td>ayy bitch bad snakeskin ayy foreign dash know ...</td>\n",
       "      <td>2010</td>\n",
       "      <td>1187</td>\n",
       "      <td>204</td>\n",
       "      <td>-0.9998</td>\n",
       "      <td>violence</td>\n",
       "    </tr>\n",
       "  </tbody>\n",
       "</table>\n",
       "</div>"
      ],
      "text/plain": [
       "                        title                     artist       date  \\\n",
       "1453   BBO (Bad Bitches Only)  Migos Featuring 21 Savage 2018-02-10   \n",
       "15627               Rack City                       Tyga 2011-12-10   \n",
       "17474              Snake Skin               Trippie Redd 2019-08-24   \n",
       "\n",
       "                                                  lyrics  decade  \\\n",
       "1453   buddah bless beat ap iced tennis chain iced wh...    2010   \n",
       "15627  rack rack city bitch rack rack rack city bitch...    2010   \n",
       "17474  ayy bitch bad snakeskin ayy foreign dash know ...    2010   \n",
       "\n",
       "       character_count  word_count  sentiment topic_name  \n",
       "1453              2122         378    -0.9999        sex  \n",
       "15627             2108         372    -0.9998      money  \n",
       "17474             1187         204    -0.9998   violence  "
      ]
     },
     "execution_count": 20,
     "metadata": {},
     "output_type": "execute_result"
    }
   ],
   "source": [
    "# What song has the lowest sentiment?\n",
    "df.sort_values(by = ['sentiment'], ascending = True).head(3)"
   ]
  },
  {
   "cell_type": "code",
   "execution_count": 21,
   "id": "e07e37fb",
   "metadata": {},
   "outputs": [
    {
     "data": {
      "text/html": [
       "<div>\n",
       "<style scoped>\n",
       "    .dataframe tbody tr th:only-of-type {\n",
       "        vertical-align: middle;\n",
       "    }\n",
       "\n",
       "    .dataframe tbody tr th {\n",
       "        vertical-align: top;\n",
       "    }\n",
       "\n",
       "    .dataframe thead th {\n",
       "        text-align: right;\n",
       "    }\n",
       "</style>\n",
       "<table border=\"1\" class=\"dataframe\">\n",
       "  <thead>\n",
       "    <tr style=\"text-align: right;\">\n",
       "      <th></th>\n",
       "      <th>title</th>\n",
       "      <th>artist</th>\n",
       "      <th>date</th>\n",
       "      <th>lyrics</th>\n",
       "      <th>decade</th>\n",
       "      <th>character_count</th>\n",
       "      <th>word_count</th>\n",
       "      <th>sentiment</th>\n",
       "      <th>topic_name</th>\n",
       "    </tr>\n",
       "  </thead>\n",
       "  <tbody>\n",
       "    <tr>\n",
       "      <th>15734</th>\n",
       "      <td>Ready</td>\n",
       "      <td>Cat Stevens</td>\n",
       "      <td>1974-12-07</td>\n",
       "      <td>love love ready love yes love love ready love ...</td>\n",
       "      <td>1970</td>\n",
       "      <td>696</td>\n",
       "      <td>130</td>\n",
       "      <td>0.9999</td>\n",
       "      <td>affection</td>\n",
       "    </tr>\n",
       "    <tr>\n",
       "      <th>15173</th>\n",
       "      <td>Pills N Potions</td>\n",
       "      <td>Nicki Minaj</td>\n",
       "      <td>2014-06-07</td>\n",
       "      <td>pill potion overdosin angry still love pill po...</td>\n",
       "      <td>2010</td>\n",
       "      <td>1749</td>\n",
       "      <td>300</td>\n",
       "      <td>0.9999</td>\n",
       "      <td>affection</td>\n",
       "    </tr>\n",
       "    <tr>\n",
       "      <th>14050</th>\n",
       "      <td>No Love</td>\n",
       "      <td>August Alsina</td>\n",
       "      <td>2014-10-04</td>\n",
       "      <td>said want stay together think ooh red light kn...</td>\n",
       "      <td>2010</td>\n",
       "      <td>1620</td>\n",
       "      <td>298</td>\n",
       "      <td>0.9999</td>\n",
       "      <td>affection</td>\n",
       "    </tr>\n",
       "  </tbody>\n",
       "</table>\n",
       "</div>"
      ],
      "text/plain": [
       "                 title         artist       date  \\\n",
       "15734            Ready    Cat Stevens 1974-12-07   \n",
       "15173  Pills N Potions    Nicki Minaj 2014-06-07   \n",
       "14050          No Love  August Alsina 2014-10-04   \n",
       "\n",
       "                                                  lyrics  decade  \\\n",
       "15734  love love ready love yes love love ready love ...    1970   \n",
       "15173  pill potion overdosin angry still love pill po...    2010   \n",
       "14050  said want stay together think ooh red light kn...    2010   \n",
       "\n",
       "       character_count  word_count  sentiment topic_name  \n",
       "15734              696         130     0.9999  affection  \n",
       "15173             1749         300     0.9999  affection  \n",
       "14050             1620         298     0.9999  affection  "
      ]
     },
     "execution_count": 21,
     "metadata": {},
     "output_type": "execute_result"
    }
   ],
   "source": [
    "# What song has the highest sentiment?\n",
    "df.sort_values(by = ['sentiment'], ascending = False).head(3)"
   ]
  },
  {
   "cell_type": "code",
   "execution_count": 22,
   "id": "9c180ca2",
   "metadata": {},
   "outputs": [],
   "source": [
    "# df = df.drop(columns = ['Unnamed: 0'])"
   ]
  },
  {
   "cell_type": "code",
   "execution_count": null,
   "id": "0bfcf136",
   "metadata": {},
   "outputs": [],
   "source": []
  },
  {
   "cell_type": "code",
   "execution_count": 39,
   "id": "04f2df0d",
   "metadata": {},
   "outputs": [
    {
     "data": {
      "text/plain": [
       "topic_name\n",
       "affection         0.832371\n",
       "good vibes        0.743714\n",
       "americana         0.634526\n",
       "breakup           0.614377\n",
       "dance             0.597372\n",
       "transcendental    0.579342\n",
       "love              0.578579\n",
       "heartache         0.567062\n",
       "nature            0.558410\n",
       "lost              0.550171\n",
       "holiday           0.532210\n",
       "youth             0.531024\n",
       "breakups          0.482409\n",
       "jealousy          0.366712\n",
       "spanish           0.323386\n",
       "money             0.204235\n",
       "sex               0.159452\n",
       "violence         -0.180857\n",
       "Name: sentiment, dtype: float64"
      ]
     },
     "execution_count": 39,
     "metadata": {},
     "output_type": "execute_result"
    }
   ],
   "source": [
    "# What is the average sentiment for each topic?\n",
    "df.groupby(['topic_name']).mean()['sentiment'].sort_values(ascending = False)"
   ]
  },
  {
   "cell_type": "code",
   "execution_count": 40,
   "id": "a529a6c4",
   "metadata": {},
   "outputs": [
    {
     "data": {
      "text/plain": [
       "<AxesSubplot:xlabel='topic_name'>"
      ]
     },
     "execution_count": 40,
     "metadata": {},
     "output_type": "execute_result"
    },
    {
     "data": {
      "image/png": "[encoded data removed]",
      "text/plain": [
       "<Figure size 936x504 with 1 Axes>"
      ]
     },
     "metadata": {},
     "output_type": "display_data"
    }
   ],
   "source": [
    "# What is the average sentiment for each topic?\n",
    "df.groupby(['topic_name']).mean()['sentiment'].sort_values(ascending = False).plot(kind = 'bar')"
   ]
  },
  {
   "cell_type": "code",
   "execution_count": 42,
   "id": "be3ac7fc",
   "metadata": {},
   "outputs": [
    {
     "data": {
      "text/plain": [
       "decade  topic_name\n",
       "1950    affection     110\n",
       "        lost           90\n",
       "        breakups       58\n",
       "        youth          47\n",
       "        americana      42\n",
       "Name: topic_name, dtype: int64"
      ]
     },
     "execution_count": 42,
     "metadata": {},
     "output_type": "execute_result"
    }
   ],
   "source": [
    "# What are the top 5 topics for each decade?\n",
    "df.groupby(['decade']).topic_name.value_counts().head(5)"
   ]
  },
  {
   "cell_type": "code",
   "execution_count": 51,
   "id": "101941ea",
   "metadata": {},
   "outputs": [
    {
     "data": {
      "text/plain": [
       "<AxesSubplot:>"
      ]
     },
     "execution_count": 51,
     "metadata": {},
     "output_type": "execute_result"
    },
    {
     "data": {
      "image/png": "[encoded data removed]",
      "text/plain": [
       "<Figure size 936x504 with 1 Axes>"
      ]
     },
     "metadata": {},
     "output_type": "display_data"
    }
   ],
   "source": [
    "# Most popular topics?\n",
    "df.topic_name.value_counts().plot(kind = 'bar')"
   ]
  },
  {
   "cell_type": "code",
   "execution_count": 56,
   "id": "46b0c08f",
   "metadata": {},
   "outputs": [],
   "source": [
    "def split_data(df):\n",
    "    '''\n",
    "    This function takes in a data frame and splits it appropriately in order\n",
    "    to return a train with 56%, validate with 24%, and test with 20% of the\n",
    "    original data frame.\n",
    "    '''\n",
    "    # Split with train being 80% and test being 20%. Stratify on target.\n",
    "    train, test = train_test_split(df, test_size = .2, random_state = 123)\n",
    "    # Split the remaining train into 70% train and 30% validate.\n",
    "    train, validate = train_test_split(train, test_size = .3, random_state = 123)\n",
    "    # Spiltting results in a split with 56% train, 24% validate, and 20% test data from original\n",
    "    return train, validate, test"
   ]
  },
  {
   "cell_type": "code",
   "execution_count": 57,
   "id": "41510767",
   "metadata": {},
   "outputs": [
    {
     "data": {
      "text/plain": [
       "(13306, 5703, 4753)"
      ]
     },
     "execution_count": 57,
     "metadata": {},
     "output_type": "execute_result"
    }
   ],
   "source": [
    "train, validate, test = split_data(df)\n",
    "train.shape[0], validate.shape[0], test.shape[0]"
   ]
  },
  {
   "cell_type": "code",
   "execution_count": 58,
   "id": "a34e813a",
   "metadata": {},
   "outputs": [
    {
     "ename": "KeyError",
     "evalue": "'topic_name'",
     "output_type": "error",
     "traceback": [
      "\u001b[0;31m---------------------------------------------------------------------------\u001b[0m",
      "\u001b[0;31mKeyError\u001b[0m                                  Traceback (most recent call last)",
      "\u001b[0;32m/var/folders/x6/9q2vjsz90nx_0lgx5gr8g33w0000gn/T/ipykernel_63694/1799527805.py\u001b[0m in \u001b[0;36m<module>\u001b[0;34m\u001b[0m\n\u001b[1;32m      1\u001b[0m \u001b[0;31m# What topics are most unique to each decade?\u001b[0m\u001b[0;34m\u001b[0m\u001b[0;34m\u001b[0m\u001b[0m\n\u001b[0;32m----> 2\u001b[0;31m \u001b[0mtrain\u001b[0m\u001b[0;34m.\u001b[0m\u001b[0mgroupby\u001b[0m\u001b[0;34m(\u001b[0m\u001b[0;34m[\u001b[0m\u001b[0;34m'decade'\u001b[0m\u001b[0;34m,\u001b[0m \u001b[0;34m'topic_name'\u001b[0m\u001b[0;34m]\u001b[0m\u001b[0;34m)\u001b[0m\u001b[0;34m.\u001b[0m\u001b[0msize\u001b[0m\u001b[0;34m(\u001b[0m\u001b[0;34m)\u001b[0m\u001b[0;31m\\\u001b[0m\u001b[0;34m\u001b[0m\u001b[0;34m\u001b[0m\u001b[0m\n\u001b[0m\u001b[1;32m      3\u001b[0m                                     \u001b[0;34m.\u001b[0m\u001b[0munstack\u001b[0m\u001b[0;34m(\u001b[0m\u001b[0;34m)\u001b[0m\u001b[0;31m\\\u001b[0m\u001b[0;34m\u001b[0m\u001b[0;34m\u001b[0m\u001b[0m\n\u001b[1;32m      4\u001b[0m                                     .sort_values(by = 'topic_name', \n\u001b[1;32m      5\u001b[0m                                                  ascending = False)\n",
      "\u001b[0;32m~/opt/anaconda3/lib/python3.9/site-packages/pandas/util/_decorators.py\u001b[0m in \u001b[0;36mwrapper\u001b[0;34m(*args, **kwargs)\u001b[0m\n\u001b[1;32m    309\u001b[0m                     \u001b[0mstacklevel\u001b[0m\u001b[0;34m=\u001b[0m\u001b[0mstacklevel\u001b[0m\u001b[0;34m,\u001b[0m\u001b[0;34m\u001b[0m\u001b[0;34m\u001b[0m\u001b[0m\n\u001b[1;32m    310\u001b[0m                 )\n\u001b[0;32m--> 311\u001b[0;31m             \u001b[0;32mreturn\u001b[0m \u001b[0mfunc\u001b[0m\u001b[0;34m(\u001b[0m\u001b[0;34m*\u001b[0m\u001b[0margs\u001b[0m\u001b[0;34m,\u001b[0m \u001b[0;34m**\u001b[0m\u001b[0mkwargs\u001b[0m\u001b[0;34m)\u001b[0m\u001b[0;34m\u001b[0m\u001b[0;34m\u001b[0m\u001b[0m\n\u001b[0m\u001b[1;32m    312\u001b[0m \u001b[0;34m\u001b[0m\u001b[0m\n\u001b[1;32m    313\u001b[0m         \u001b[0;32mreturn\u001b[0m \u001b[0mwrapper\u001b[0m\u001b[0;34m\u001b[0m\u001b[0;34m\u001b[0m\u001b[0m\n",
      "\u001b[0;32m~/opt/anaconda3/lib/python3.9/site-packages/pandas/core/frame.py\u001b[0m in \u001b[0;36msort_values\u001b[0;34m(self, by, axis, ascending, inplace, kind, na_position, ignore_index, key)\u001b[0m\n\u001b[1;32m   6257\u001b[0m \u001b[0;34m\u001b[0m\u001b[0m\n\u001b[1;32m   6258\u001b[0m             \u001b[0mby\u001b[0m \u001b[0;34m=\u001b[0m \u001b[0mby\u001b[0m\u001b[0;34m[\u001b[0m\u001b[0;36m0\u001b[0m\u001b[0;34m]\u001b[0m\u001b[0;34m\u001b[0m\u001b[0;34m\u001b[0m\u001b[0m\n\u001b[0;32m-> 6259\u001b[0;31m             \u001b[0mk\u001b[0m \u001b[0;34m=\u001b[0m \u001b[0mself\u001b[0m\u001b[0;34m.\u001b[0m\u001b[0m_get_label_or_level_values\u001b[0m\u001b[0;34m(\u001b[0m\u001b[0mby\u001b[0m\u001b[0;34m,\u001b[0m \u001b[0maxis\u001b[0m\u001b[0;34m=\u001b[0m\u001b[0maxis\u001b[0m\u001b[0;34m)\u001b[0m\u001b[0;34m\u001b[0m\u001b[0;34m\u001b[0m\u001b[0m\n\u001b[0m\u001b[1;32m   6260\u001b[0m \u001b[0;34m\u001b[0m\u001b[0m\n\u001b[1;32m   6261\u001b[0m             \u001b[0;31m# need to rewrap column in Series to apply key function\u001b[0m\u001b[0;34m\u001b[0m\u001b[0;34m\u001b[0m\u001b[0m\n",
      "\u001b[0;32m~/opt/anaconda3/lib/python3.9/site-packages/pandas/core/generic.py\u001b[0m in \u001b[0;36m_get_label_or_level_values\u001b[0;34m(self, key, axis)\u001b[0m\n\u001b[1;32m   1777\u001b[0m             \u001b[0mvalues\u001b[0m \u001b[0;34m=\u001b[0m \u001b[0mself\u001b[0m\u001b[0;34m.\u001b[0m\u001b[0maxes\u001b[0m\u001b[0;34m[\u001b[0m\u001b[0maxis\u001b[0m\u001b[0;34m]\u001b[0m\u001b[0;34m.\u001b[0m\u001b[0mget_level_values\u001b[0m\u001b[0;34m(\u001b[0m\u001b[0mkey\u001b[0m\u001b[0;34m)\u001b[0m\u001b[0;34m.\u001b[0m\u001b[0m_values\u001b[0m\u001b[0;34m\u001b[0m\u001b[0;34m\u001b[0m\u001b[0m\n\u001b[1;32m   1778\u001b[0m         \u001b[0;32melse\u001b[0m\u001b[0;34m:\u001b[0m\u001b[0;34m\u001b[0m\u001b[0;34m\u001b[0m\u001b[0m\n\u001b[0;32m-> 1779\u001b[0;31m             \u001b[0;32mraise\u001b[0m \u001b[0mKeyError\u001b[0m\u001b[0;34m(\u001b[0m\u001b[0mkey\u001b[0m\u001b[0;34m)\u001b[0m\u001b[0;34m\u001b[0m\u001b[0;34m\u001b[0m\u001b[0m\n\u001b[0m\u001b[1;32m   1780\u001b[0m \u001b[0;34m\u001b[0m\u001b[0m\n\u001b[1;32m   1781\u001b[0m         \u001b[0;31m# Check for duplicates\u001b[0m\u001b[0;34m\u001b[0m\u001b[0;34m\u001b[0m\u001b[0m\n",
      "\u001b[0;31mKeyError\u001b[0m: 'topic_name'"
     ]
    }
   ],
   "source": [
    "# What topics are most unique to each decade?\n",
    "train.groupby(['decade', 'topic_name']).size()\\\n",
    "                                    .unstack()\\\n",
    "                                    .sort_values(by = 'topic_name', \n",
    "                                                 ascending = False)"
   ]
  },
  {
   "cell_type": "code",
   "execution_count": null,
   "id": "17c1557d",
   "metadata": {},
   "outputs": [],
   "source": []
  }
 ],
 "metadata": {
  "kernelspec": {
   "display_name": "Python 3 (ipykernel)",
   "language": "python",
   "name": "python3"
  },
  "language_info": {
   "codemirror_mode": {
    "name": "ipython",
    "version": 3
   },
   "file_extension": ".py",
   "mimetype": "text/x-python",
   "name": "python",
   "nbconvert_exporter": "python",
   "pygments_lexer": "ipython3",
   "version": "3.9.7"
  }
 },
 "nbformat": 4,
 "nbformat_minor": 5
}
