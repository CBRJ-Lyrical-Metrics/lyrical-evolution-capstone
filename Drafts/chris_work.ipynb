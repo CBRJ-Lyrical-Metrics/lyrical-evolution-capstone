{
 "cells": [
  {
   "cell_type": "code",
   "execution_count": 1,
   "metadata": {},
   "outputs": [],
   "source": [
    "import env\n",
    "# Make HTTP requests\n",
    "import requests\n",
    "# Scrape data from an HTML document\n",
    "from bs4 import BeautifulSoup\n",
    "# I/O\n",
    "import os\n",
    "# Search and manipulate strings\n",
    "import re\n",
    "import lyricsgenius\n",
    "import pandas as pd\n",
    "import nltk\n",
    "import draft_prepare as prep\n",
    "import draft_model as model\n",
    "import contractions\n",
    "\n"
   ]
  },
  {
   "cell_type": "code",
   "execution_count": 2,
   "metadata": {},
   "outputs": [],
   "source": [
    "# used to download lexicon data\n",
    "# nltk.download('vader_lexicon')"
   ]
  },
  {
   "cell_type": "code",
   "execution_count": 3,
   "metadata": {},
   "outputs": [],
   "source": [
    "# playing with genius API\n",
    "\n",
    "# genius = lyricsgenius.Genius(env.token)\n",
    "\n",
    "# artist = genius.search_artist(\"Andy Shauf\", max_songs=3, sort=\"title\")\n",
    "# print(artist.songs)\n",
    "# song = artist.songs[0]\n",
    "# print(song.lyrics)\n",
    "# df = pd.read_csv(\"charts.csv\")\n",
    "# df.head()\n",
    "# df.shape\n",
    "# #convert date to datetime\n",
    "# df['date'] = pd.to_datetime(df['date'])\n",
    "# df.head()\n",
    "# first_date = pd.DataFrame(df.groupby(['artist', 'song']).date.min())\n",
    "# # add a column for year and decade\n",
    "# first_date['year'] = first_date.date.dt.year\n",
    "# first_date['decade'] = first_date.date.dt.year - (first_date.date.dt.year % 10)\n",
    "# first_date.reset_index(inplace=True)\n",
    "# first_date.head()\n",
    "# first_date.shape"
   ]
  },
  {
   "cell_type": "code",
   "execution_count": 4,
   "metadata": {},
   "outputs": [],
   "source": [
    "# def prep_data(df):\n",
    "#     '''\n",
    "#     get unique artist song combos\n",
    "#     make column for year and decade\n",
    "#     change song to title\n",
    "#     '''\n",
    "#     # convert date to datetime\n",
    "#     df['date'] = pd.to_datetime(df['date'])\n",
    "#     # rename song column to title\n",
    "#     df.rename(columns={'song': 'title'}, inplace=True)\n",
    "#     # subset data to make only unique artist title combos while keeping earliest date\n",
    "#     df = pd.DataFrame(df.groupby(['artist', 'title']).date.min())\n",
    "#     # make new column for year and decade\n",
    "#     df['year'] = df.date.dt.year\n",
    "#     df['decade'] = df.date.dt.year - (df.date.dt.year % 10)\n",
    "#     # reset index\n",
    "#     df.reset_index(inplace=True)\n",
    "#     return df\n",
    "# df = prep_data(pd.read_csv(\"charts.csv\"))\n",
    "# df.head()\n",
    "# df.shape"
   ]
  },
  {
   "cell_type": "code",
   "execution_count": 5,
   "metadata": {},
   "outputs": [],
   "source": [
    "# This was used to get initial data\n",
    "\n",
    "\n",
    "# api = lyricsgenius.Genius(env.token, verbose=False)\n",
    "\n",
    "# def prep_songs():\n",
    "#     songs = pd.read_csv('charts.csv')\n",
    "#     songs['date'] = pd.to_datetime(songs.date)\n",
    "#     songs = songs.rename(columns={'song': 'title'})\n",
    "#     songs = pd.DataFrame(songs.groupby(['title', 'artist']).min().date).reset_index()\n",
    "#     return songs\n",
    "\n",
    "# def get_lyrics(title, artist):\n",
    "#     song = api.search_song(title, artist)\n",
    "#     lyrics = song.lyrics.replace('\\n', ' ')\n",
    "#     # TODO handle verse and chorus tags\n",
    "#     return lyrics\n",
    "\n",
    "# songs = prep_songs()\n",
    "\n",
    "# for i in range(len(songs)-1, 0 , -1):\n",
    "    \n",
    "#     title = songs.iloc[[i]].title.values[0]\n",
    "#     artist = songs.iloc[[i]].artist.values[0]\n",
    "    \n",
    "#     try:\n",
    "#         songs.loc[i, 'lyrics'] = get_lyrics(title, artist)\n",
    "#         songs.loc[i, 'status'] = 'lyrics acquired'\n",
    "#     except: \n",
    "#         songs.loc[i, 'status'] = 'an error ocurred'\n",
    "#     # save every 100 songs\n",
    "#     if i % 100 == 0:\n",
    "#         songs.to_csv('songs.csv')\n",
    "    \n",
    "#     print(f'{round((i / len(songs) * 100), 2)}%\\t complete', end='\\r')\n",
    "#songs.to_csv('songs.csv')"
   ]
  },
  {
   "cell_type": "code",
   "execution_count": null,
   "metadata": {},
   "outputs": [],
   "source": []
  },
  {
   "cell_type": "markdown",
   "metadata": {},
   "source": [
    "# Prep data"
   ]
  },
  {
   "cell_type": "code",
   "execution_count": 6,
   "metadata": {},
   "outputs": [
    {
     "data": {
      "text/html": [
       "<div>\n",
       "<style scoped>\n",
       "    .dataframe tbody tr th:only-of-type {\n",
       "        vertical-align: middle;\n",
       "    }\n",
       "\n",
       "    .dataframe tbody tr th {\n",
       "        vertical-align: top;\n",
       "    }\n",
       "\n",
       "    .dataframe thead th {\n",
       "        text-align: right;\n",
       "    }\n",
       "</style>\n",
       "<table border=\"1\" class=\"dataframe\">\n",
       "  <thead>\n",
       "    <tr style=\"text-align: right;\">\n",
       "      <th></th>\n",
       "      <th>title</th>\n",
       "      <th>artist</th>\n",
       "      <th>date</th>\n",
       "      <th>lyrics</th>\n",
       "    </tr>\n",
       "  </thead>\n",
       "  <tbody>\n",
       "    <tr>\n",
       "      <th>2</th>\n",
       "      <td>#1</td>\n",
       "      <td>Nelly</td>\n",
       "      <td>2001-10-20</td>\n",
       "      <td>#1 LyricsUh uh uh I just gotta bring it to the...</td>\n",
       "    </tr>\n",
       "    <tr>\n",
       "      <th>4</th>\n",
       "      <td>#9 Dream</td>\n",
       "      <td>John Lennon</td>\n",
       "      <td>1974-12-21</td>\n",
       "      <td>#9 Dream Lyrics[Verse 1] So long ago Was it in...</td>\n",
       "    </tr>\n",
       "    <tr>\n",
       "      <th>5</th>\n",
       "      <td>#Beautiful</td>\n",
       "      <td>Mariah Carey Featuring Miguel</td>\n",
       "      <td>2013-05-25</td>\n",
       "      <td>#Beautiful Lyrics[Intro: Mariah Carey] Ah, ah,...</td>\n",
       "    </tr>\n",
       "    <tr>\n",
       "      <th>6</th>\n",
       "      <td>#SELFIE</td>\n",
       "      <td>The Chainsmokers</td>\n",
       "      <td>2014-03-15</td>\n",
       "      <td>#SELFIE Lyrics[Verse 1] When Jason was at the ...</td>\n",
       "    </tr>\n",
       "    <tr>\n",
       "      <th>7</th>\n",
       "      <td>#thatPOWER</td>\n",
       "      <td>will.i.am Featuring Justin Bieber</td>\n",
       "      <td>2013-04-06</td>\n",
       "      <td>#thatPOWER Lyrics[Instrumental break]  [Pre-Ch...</td>\n",
       "    </tr>\n",
       "  </tbody>\n",
       "</table>\n",
       "</div>"
      ],
      "text/plain": [
       "        title                             artist        date  \\\n",
       "2          #1                              Nelly  2001-10-20   \n",
       "4    #9 Dream                        John Lennon  1974-12-21   \n",
       "5  #Beautiful      Mariah Carey Featuring Miguel  2013-05-25   \n",
       "6     #SELFIE                   The Chainsmokers  2014-03-15   \n",
       "7  #thatPOWER  will.i.am Featuring Justin Bieber  2013-04-06   \n",
       "\n",
       "                                              lyrics  \n",
       "2  #1 LyricsUh uh uh I just gotta bring it to the...  \n",
       "4  #9 Dream Lyrics[Verse 1] So long ago Was it in...  \n",
       "5  #Beautiful Lyrics[Intro: Mariah Carey] Ah, ah,...  \n",
       "6  #SELFIE Lyrics[Verse 1] When Jason was at the ...  \n",
       "7  #thatPOWER Lyrics[Instrumental break]  [Pre-Ch...  "
      ]
     },
     "execution_count": 6,
     "metadata": {},
     "output_type": "execute_result"
    }
   ],
   "source": [
    "songs = pd.read_csv('songs_0526.csv', index_col=0)\n",
    "#songs.reset_index(drop = True, inplace=True)\n",
    "#songs.drop(columns=['Unnamed: 0'], inplace=True)\n",
    "songs.head()"
   ]
  },
  {
   "cell_type": "code",
   "execution_count": 7,
   "metadata": {},
   "outputs": [
    {
     "data": {
      "text/plain": [
       "title     0\n",
       "artist    0\n",
       "date      0\n",
       "lyrics    0\n",
       "dtype: int64"
      ]
     },
     "execution_count": 7,
     "metadata": {},
     "output_type": "execute_result"
    }
   ],
   "source": [
    "songs.isnull().sum()"
   ]
  },
  {
   "cell_type": "code",
   "execution_count": 8,
   "metadata": {},
   "outputs": [
    {
     "data": {
      "text/plain": [
       "(23762, 23762, 23762)"
      ]
     },
     "execution_count": 8,
     "metadata": {},
     "output_type": "execute_result"
    }
   ],
   "source": [
    "(\n",
    "songs.shape[0],\n",
    "#how many lyrics contain 'Lyrics'\n",
    "songs.lyrics.str.contains('Lyrics').sum(),\n",
    "# how many lyrics contain 'Embed'\n",
    "songs.lyrics.str.contains('Embed').sum()\n",
    ")"
   ]
  },
  {
   "cell_type": "code",
   "execution_count": 9,
   "metadata": {},
   "outputs": [
    {
     "data": {
      "text/plain": [
       "'I am'"
      ]
     },
     "execution_count": 9,
     "metadata": {},
     "output_type": "execute_result"
    }
   ],
   "source": [
    "# test contractions package\n",
    "contractions.fix('I\\'m')\n"
   ]
  },
  {
   "cell_type": "code",
   "execution_count": 10,
   "metadata": {},
   "outputs": [
    {
     "data": {
      "text/plain": [
       "'#1 LyricsUh uh uh I just gotta bring it to they attention dirty, that\\'s all..  You better watch who you talkin bout; runnin your mouth, like you know me You gon\\' fuck around and show why the \"Show Me\" get called the \"Show Me\" Why one-on-one you can\\'t hold me if your last name was Hanes Only way you wear me out is stitch my name on your pants No resident of France; but you swear I\\'m from Paris Hundred-six karats - total? Naw that\\'s per wrist Trying to compurr this - my chain to yo\\' chain I\\'m like Sprint or Motorola - no service, out of your range You out of your brains, thinkin I\\'mma shout out your name You gotta come up with better ways than that to catch your fame All that pressure you applyin it\\'s time to ease off Before I hit you from the blindside takin your sleeves off As much as we\\'s floss, still hard to please boss Don\\'t be lyin bitchin and cryin - suck it up as a loss Cause your, acts is wack, your whole label is wack And matter fact, eh eh-eh eh a-hold that [Hook] I.. am..  #1 - no matter if you like it Here take it sit down & write it I.. am.. number one Hey hey hey hey hey hey - now let me ask you man What does it take to be #1? 2 is not a winner and three nobody remembers (hey) What does it take to be #1? Hey hey hey hey..  Do you like it when I shake it for ya, daddy? Move it all around? Let you get a peep before it touches the ground?  Hell yeah ma I love a girl that\\'s willin to learn Willin to get in the driver\\'s seat and willin to turn And not concerned about that he say, she say, did he say What I think he said? Squash that, he probably got that off eBay Or some, Internet access some, website chat line Mad cause I got mine, don\\'t wind up on the flat line Ohh if my uncle could see me now If he could see how many rappers wanna be me now Straight emulatin my style right to the \"down down\" Can\\'t leave out the store now better wait \\'til they calm down I got hella shorties, comin askin, \"Yo where the party?\" Ohh lordy - will I continue to act naughty? Mixing Cris\\' and Bacardi, got me thinkin fo\\' sho\\' I\\'m not a man of many words but there\\'s one thing I know - Pimp [Hook] I.. am.. number one - no matter if you like it Here take it sit down and write it Hey I.. am.. number one Hey hey hey hey hey hey hey hey Tell me now Dirty What does it take to be number one? Two is not a winner and three nobody remembers (tell me) What does it take to be number one? Hey hey hey hey hey hey hey hey  Check it, uhh, check, yo Aiyyo I\\'m tired of people judgin what\\'s real Hip-Hop Half the time you be them niggas who fuckin album flop YOU KNOW! Boat done sank and it ain\\'t left the dock C\\'MON! Mad cause I\\'m hot; HE JUST - mad cause he not You ain\\'t gotta gimme my props, just gimme the yachts Gimme my rocks, and keep my fans comin in flocks \\'Til you top the Superbowl, keep your mouth on lock Shhhhh.. {*crickets*} I\\'m awake, ha ha ha! I\\'m cocky on the mic but I\\'m humble in real life Taking nothin for granted blessin e\\'rything on my life Trying to see a new light at the top of the roof Baby name not Sigel but I speak The Truth I heat the booth - Nelly actin so uncouth Top down shirt off in the coupe, spreadin the loot With my family and friends, and my closest of kin And I\\'ll do it again if it means I\\'mma win [Hook] Hey Dirty I.. am.. number one - no matter if you like it Here take it sit down and write it I..I..I am.. number one Two is not a winner and three nobody remembers Number one Cause two is not a winner and three nobody remembers5Embed'"
      ]
     },
     "execution_count": 10,
     "metadata": {},
     "output_type": "execute_result"
    }
   ],
   "source": [
    "songs = pd.read_csv('songs_0526.csv', index_col=0)\n",
    "songs.lyrics[2] # look at raw lyrics"
   ]
  },
  {
   "cell_type": "code",
   "execution_count": 11,
   "metadata": {},
   "outputs": [],
   "source": [
    "# testing for def model_clean in prepare.py\n",
    "\n",
    "# # remove everything before and including 'lyrics'\n",
    "# songs.lyrics = songs.lyrics.apply(lambda x: x.split('Lyrics')[1])\n",
    "# # remove everything after and including 'Embed'\n",
    "# songs.lyrics = songs.lyrics.apply(lambda x: x.rsplit('Embed')[0])\n",
    "# # remove everything contained in []\n",
    "# songs.lyrics = songs.lyrics.apply(lambda x: re.sub(r'\\[.*?\\]', '', x))\n",
    "# # remove everything contained in ()\n",
    "# songs.lyrics = songs.lyrics.apply(lambda x: re.sub(r'\\(.*?\\)', '', x))\n",
    "# # expand contractions\n",
    "# songs.lyrics = songs.lyrics.apply(lambda x: contractions.fix(x))\n",
    "\n",
    "# # convert date to datetime\n",
    "# songs['date'] = pd.to_datetime(songs['date'])\n",
    "# # make new column for decade\n",
    "# songs['decade'] = songs.date.dt.year - (songs.date.dt.year % 10)\n",
    "\n",
    "# # songs = songs[(songs.decade != 1950) & (songs.decade != 2020)]\n",
    "# songs['clean_lyrics'] = songs.lyrics.apply(prep.basic_clean)\n",
    "# songs['lemmatized'] = songs.clean_lyrics.apply(prep.lemmatize)"
   ]
  },
  {
   "cell_type": "code",
   "execution_count": 12,
   "metadata": {},
   "outputs": [
    {
     "data": {
      "text/html": [
       "<div>\n",
       "<style scoped>\n",
       "    .dataframe tbody tr th:only-of-type {\n",
       "        vertical-align: middle;\n",
       "    }\n",
       "\n",
       "    .dataframe tbody tr th {\n",
       "        vertical-align: top;\n",
       "    }\n",
       "\n",
       "    .dataframe thead th {\n",
       "        text-align: right;\n",
       "    }\n",
       "</style>\n",
       "<table border=\"1\" class=\"dataframe\">\n",
       "  <thead>\n",
       "    <tr style=\"text-align: right;\">\n",
       "      <th></th>\n",
       "      <th>title</th>\n",
       "      <th>artist</th>\n",
       "      <th>date</th>\n",
       "      <th>lyrics</th>\n",
       "      <th>decade</th>\n",
       "    </tr>\n",
       "  </thead>\n",
       "  <tbody>\n",
       "    <tr>\n",
       "      <th>2</th>\n",
       "      <td>#1</td>\n",
       "      <td>Nelly</td>\n",
       "      <td>2001-10-20</td>\n",
       "      <td>uh uh uh got bring attention dirty better watc...</td>\n",
       "      <td>2000</td>\n",
       "    </tr>\n",
       "    <tr>\n",
       "      <th>4</th>\n",
       "      <td>#9 Dream</td>\n",
       "      <td>John Lennon</td>\n",
       "      <td>1974-12-21</td>\n",
       "      <td>long ago dream dream know yes know seemed real...</td>\n",
       "      <td>1970</td>\n",
       "    </tr>\n",
       "    <tr>\n",
       "      <th>5</th>\n",
       "      <td>#Beautiful</td>\n",
       "      <td>Mariah Carey Featuring Miguel</td>\n",
       "      <td>2013-05-25</td>\n",
       "      <td>ah ah beautiful ah ah beautiful hop back bike ...</td>\n",
       "      <td>2010</td>\n",
       "    </tr>\n",
       "    <tr>\n",
       "      <th>6</th>\n",
       "      <td>#SELFIE</td>\n",
       "      <td>The Chainsmokers</td>\n",
       "      <td>2014-03-15</td>\n",
       "      <td>jason table kept seeing look girl think make j...</td>\n",
       "      <td>2010</td>\n",
       "    </tr>\n",
       "    <tr>\n",
       "      <th>7</th>\n",
       "      <td>#thatPOWER</td>\n",
       "      <td>will.i.am Featuring Justin Bieber</td>\n",
       "      <td>2013-04-06</td>\n",
       "      <td>oh alive alive alive oh fly fly fly oh alive a...</td>\n",
       "      <td>2010</td>\n",
       "    </tr>\n",
       "  </tbody>\n",
       "</table>\n",
       "</div>"
      ],
      "text/plain": [
       "        title                             artist       date  \\\n",
       "2          #1                              Nelly 2001-10-20   \n",
       "4    #9 Dream                        John Lennon 1974-12-21   \n",
       "5  #Beautiful      Mariah Carey Featuring Miguel 2013-05-25   \n",
       "6     #SELFIE                   The Chainsmokers 2014-03-15   \n",
       "7  #thatPOWER  will.i.am Featuring Justin Bieber 2013-04-06   \n",
       "\n",
       "                                              lyrics  decade  \n",
       "2  uh uh uh got bring attention dirty better watc...    2000  \n",
       "4  long ago dream dream know yes know seemed real...    1970  \n",
       "5  ah ah beautiful ah ah beautiful hop back bike ...    2010  \n",
       "6  jason table kept seeing look girl think make j...    2010  \n",
       "7  oh alive alive alive oh fly fly fly oh alive a...    2010  "
      ]
     },
     "execution_count": 12,
     "metadata": {},
     "output_type": "execute_result"
    }
   ],
   "source": [
    "songs = prep.model_clean(songs)\n",
    "songs.head()"
   ]
  },
  {
   "cell_type": "code",
   "execution_count": 13,
   "metadata": {},
   "outputs": [
    {
     "data": {
      "text/plain": [
       "'uh uh uh got bring attention dirty better watch talkin bout runnin mouth like know gon fuck around show show get called show oneonone cannot hold last name hanes way wear stitch name pant resident france swear paris hundredsix karat total naw per wrist trying compurr chain yo chain like sprint motorola service range brain thinkin imma shout name got come better way catch fame pressure applyin time ease hit blindside takin sleeve much wes floss still hard please bos lyin bitchin cryin suck loss act wack whole label wack matter fact eh eheh eh ahold matter like take sit write number one hey hey hey hey hey hey let ask man take winner three nobody remembers take hey hey hey hey like shake ya daddy move around let get peep touch ground hell yeah love girl willin learn willin get driver seat willin turn concerned say say say think said squash probably got ebay internet access website chat line mad got mine wind flat line ohh uncle could see could see many rapper want straight emulatin style right cannot leave store better wait til calm got hella shorties comin askin yo party ohh lordy continue act naughty mixing cris bacardi got thinkin fo sho man many word one thing know pimp number one matter like take sit write hey number one hey hey hey hey hey hey hey hey tell dirty take number one two winner three nobody remembers take number one hey hey hey hey hey hey hey hey check uhh check yo aiyyo tired people judgin real hiphop half time nigga fuckin album flop know boat done sank left dock cmon mad hot mad got give prop give yacht give rock keep fan comin flock til top superbowl keep mouth lock shhhhh cricket awake ha ha ha cocky mic humble real life taking nothin granted blessin erything life trying see new light top roof baby name sigel speak truth heat booth nelly actin uncouth top shirt coupe spreadin loot family friend closest kin mean imma win hey dirty number one matter like take sit write iii number one two winner three nobody remembers number one two winner three nobody remembers'"
      ]
     },
     "execution_count": 13,
     "metadata": {},
     "output_type": "execute_result"
    }
   ],
   "source": [
    "songs.lyrics[2]"
   ]
  },
  {
   "cell_type": "markdown",
   "metadata": {},
   "source": [
    "# modeling tryouts"
   ]
  },
  {
   "cell_type": "code",
   "execution_count": 14,
   "metadata": {},
   "outputs": [
    {
     "name": "stdout",
     "output_type": "stream",
     "text": [
      "Using solver: saga out of \"liblinear\", \"lbfgs\", \"newton-cg\", \"sag\", \"saga\"saga\"\r"
     ]
    }
   ],
   "source": [
    "results = model.run_logistic_reg_models(songs)"
   ]
  },
  {
   "cell_type": "code",
   "execution_count": 15,
   "metadata": {},
   "outputs": [
    {
     "data": {
      "text/html": [
       "<div>\n",
       "<style scoped>\n",
       "    .dataframe tbody tr th:only-of-type {\n",
       "        vertical-align: middle;\n",
       "    }\n",
       "\n",
       "    .dataframe tbody tr th {\n",
       "        vertical-align: top;\n",
       "    }\n",
       "\n",
       "    .dataframe thead th {\n",
       "        text-align: right;\n",
       "    }\n",
       "</style>\n",
       "<table border=\"1\" class=\"dataframe\">\n",
       "  <thead>\n",
       "    <tr style=\"text-align: right;\">\n",
       "      <th></th>\n",
       "      <th>model_number</th>\n",
       "      <th>model_type</th>\n",
       "      <th>train_accuracy</th>\n",
       "      <th>validate_accuracy</th>\n",
       "      <th>test_accuracy</th>\n",
       "      <th>better_than_baseline</th>\n",
       "      <th>baseline_accuracy</th>\n",
       "      <th>solver</th>\n",
       "      <th>C</th>\n",
       "    </tr>\n",
       "  </thead>\n",
       "  <tbody>\n",
       "    <tr>\n",
       "      <th>0</th>\n",
       "      <td>baseline</td>\n",
       "      <td>baseline</td>\n",
       "      <td>0.205677</td>\n",
       "      <td>0.20559</td>\n",
       "      <td>0.205763</td>\n",
       "      <td>False</td>\n",
       "      <td>0.20559</td>\n",
       "      <td>NaN</td>\n",
       "      <td>NaN</td>\n",
       "    </tr>\n",
       "    <tr>\n",
       "      <th>1</th>\n",
       "      <td>106</td>\n",
       "      <td>LogisticRegression</td>\n",
       "      <td>0.207043</td>\n",
       "      <td>0.20634</td>\n",
       "      <td>0.206439</td>\n",
       "      <td>True</td>\n",
       "      <td>0.20559</td>\n",
       "      <td>liblinear</td>\n",
       "      <td>0.001</td>\n",
       "    </tr>\n",
       "    <tr>\n",
       "      <th>2</th>\n",
       "      <td>107</td>\n",
       "      <td>LogisticRegression</td>\n",
       "      <td>0.280373</td>\n",
       "      <td>0.27462</td>\n",
       "      <td>0.278928</td>\n",
       "      <td>True</td>\n",
       "      <td>0.20559</td>\n",
       "      <td>liblinear</td>\n",
       "      <td>0.01</td>\n",
       "    </tr>\n",
       "  </tbody>\n",
       "</table>\n",
       "</div>"
      ],
      "text/plain": [
       "  model_number          model_type train_accuracy validate_accuracy  \\\n",
       "0     baseline            baseline       0.205677           0.20559   \n",
       "1          106  LogisticRegression       0.207043           0.20634   \n",
       "2          107  LogisticRegression       0.280373           0.27462   \n",
       "\n",
       "  test_accuracy better_than_baseline baseline_accuracy     solver      C  \n",
       "0      0.205763                False           0.20559        NaN    NaN  \n",
       "1      0.206439                 True           0.20559  liblinear  0.001  \n",
       "2      0.278928                 True           0.20559  liblinear   0.01  "
      ]
     },
     "execution_count": 15,
     "metadata": {},
     "output_type": "execute_result"
    }
   ],
   "source": [
    "results.head(3)"
   ]
  },
  {
   "cell_type": "code",
   "execution_count": 16,
   "metadata": {},
   "outputs": [
    {
     "data": {
      "text/html": [
       "<div>\n",
       "<style scoped>\n",
       "    .dataframe tbody tr th:only-of-type {\n",
       "        vertical-align: middle;\n",
       "    }\n",
       "\n",
       "    .dataframe tbody tr th {\n",
       "        vertical-align: top;\n",
       "    }\n",
       "\n",
       "    .dataframe thead th {\n",
       "        text-align: right;\n",
       "    }\n",
       "</style>\n",
       "<table border=\"1\" class=\"dataframe\">\n",
       "  <thead>\n",
       "    <tr style=\"text-align: right;\">\n",
       "      <th></th>\n",
       "      <th>model_number</th>\n",
       "      <th>model_type</th>\n",
       "      <th>train_accuracy</th>\n",
       "      <th>validate_accuracy</th>\n",
       "      <th>test_accuracy</th>\n",
       "      <th>better_than_baseline</th>\n",
       "      <th>baseline_accuracy</th>\n",
       "      <th>solver</th>\n",
       "      <th>C</th>\n",
       "    </tr>\n",
       "  </thead>\n",
       "  <tbody>\n",
       "    <tr>\n",
       "      <th>11</th>\n",
       "      <td>116</td>\n",
       "      <td>LogisticRegression</td>\n",
       "      <td>0.69832</td>\n",
       "      <td>0.457325</td>\n",
       "      <td>0.448897</td>\n",
       "      <td>True</td>\n",
       "      <td>0.20559</td>\n",
       "      <td>lbfgs</td>\n",
       "      <td>1</td>\n",
       "    </tr>\n",
       "    <tr>\n",
       "      <th>18</th>\n",
       "      <td>123</td>\n",
       "      <td>LogisticRegression</td>\n",
       "      <td>0.699043</td>\n",
       "      <td>0.457137</td>\n",
       "      <td>0.449797</td>\n",
       "      <td>True</td>\n",
       "      <td>0.20559</td>\n",
       "      <td>newton-cg</td>\n",
       "      <td>1</td>\n",
       "    </tr>\n",
       "    <tr>\n",
       "      <th>25</th>\n",
       "      <td>130</td>\n",
       "      <td>LogisticRegression</td>\n",
       "      <td>0.699043</td>\n",
       "      <td>0.457137</td>\n",
       "      <td>0.449797</td>\n",
       "      <td>True</td>\n",
       "      <td>0.20559</td>\n",
       "      <td>sag</td>\n",
       "      <td>1</td>\n",
       "    </tr>\n",
       "  </tbody>\n",
       "</table>\n",
       "</div>"
      ],
      "text/plain": [
       "   model_number          model_type train_accuracy validate_accuracy  \\\n",
       "11          116  LogisticRegression        0.69832          0.457325   \n",
       "18          123  LogisticRegression       0.699043          0.457137   \n",
       "25          130  LogisticRegression       0.699043          0.457137   \n",
       "\n",
       "   test_accuracy better_than_baseline baseline_accuracy     solver  C  \n",
       "11      0.448897                 True           0.20559      lbfgs  1  \n",
       "18      0.449797                 True           0.20559  newton-cg  1  \n",
       "25      0.449797                 True           0.20559        sag  1  "
      ]
     },
     "execution_count": 16,
     "metadata": {},
     "output_type": "execute_result"
    }
   ],
   "source": [
    "results.sort_values('validate_accuracy', ascending=False).head(3)"
   ]
  },
  {
   "cell_type": "code",
   "execution_count": 17,
   "metadata": {},
   "outputs": [],
   "source": [
    "results2 = model.run_decision_tree_models(songs)"
   ]
  },
  {
   "cell_type": "code",
   "execution_count": 18,
   "metadata": {},
   "outputs": [
    {
     "data": {
      "text/html": [
       "<div>\n",
       "<style scoped>\n",
       "    .dataframe tbody tr th:only-of-type {\n",
       "        vertical-align: middle;\n",
       "    }\n",
       "\n",
       "    .dataframe tbody tr th {\n",
       "        vertical-align: top;\n",
       "    }\n",
       "\n",
       "    .dataframe thead th {\n",
       "        text-align: right;\n",
       "    }\n",
       "</style>\n",
       "<table border=\"1\" class=\"dataframe\">\n",
       "  <thead>\n",
       "    <tr style=\"text-align: right;\">\n",
       "      <th></th>\n",
       "      <th>model_number</th>\n",
       "      <th>model_type</th>\n",
       "      <th>train_accuracy</th>\n",
       "      <th>validate_accuracy</th>\n",
       "      <th>test_accuracy</th>\n",
       "      <th>better_than_baseline</th>\n",
       "      <th>max_depth</th>\n",
       "      <th>baseline_accuracy</th>\n",
       "    </tr>\n",
       "  </thead>\n",
       "  <tbody>\n",
       "    <tr>\n",
       "      <th>6</th>\n",
       "      <td>6</td>\n",
       "      <td>DecisionTreeClassifier</td>\n",
       "      <td>0.411755</td>\n",
       "      <td>0.312324</td>\n",
       "      <td>0.301216</td>\n",
       "      <td>True</td>\n",
       "      <td>10</td>\n",
       "      <td>0.20559</td>\n",
       "    </tr>\n",
       "    <tr>\n",
       "      <th>7</th>\n",
       "      <td>7</td>\n",
       "      <td>DecisionTreeClassifier</td>\n",
       "      <td>0.999759</td>\n",
       "      <td>0.300694</td>\n",
       "      <td>0.298514</td>\n",
       "      <td>True</td>\n",
       "      <td>100</td>\n",
       "      <td>0.20559</td>\n",
       "    </tr>\n",
       "    <tr>\n",
       "      <th>5</th>\n",
       "      <td>5</td>\n",
       "      <td>DecisionTreeClassifier</td>\n",
       "      <td>0.321058</td>\n",
       "      <td>0.295629</td>\n",
       "      <td>0.296938</td>\n",
       "      <td>True</td>\n",
       "      <td>5</td>\n",
       "      <td>0.20559</td>\n",
       "    </tr>\n",
       "  </tbody>\n",
       "</table>\n",
       "</div>"
      ],
      "text/plain": [
       "  model_number              model_type train_accuracy validate_accuracy  \\\n",
       "6            6  DecisionTreeClassifier       0.411755          0.312324   \n",
       "7            7  DecisionTreeClassifier       0.999759          0.300694   \n",
       "5            5  DecisionTreeClassifier       0.321058          0.295629   \n",
       "\n",
       "  test_accuracy better_than_baseline max_depth baseline_accuracy  \n",
       "6      0.301216                 True        10           0.20559  \n",
       "7      0.298514                 True       100           0.20559  \n",
       "5      0.296938                 True         5           0.20559  "
      ]
     },
     "execution_count": 18,
     "metadata": {},
     "output_type": "execute_result"
    }
   ],
   "source": [
    "results2.sort_values('validate_accuracy', ascending=False).head(3)"
   ]
  },
  {
   "cell_type": "code",
   "execution_count": 19,
   "metadata": {},
   "outputs": [
    {
     "ename": "TypeError",
     "evalue": "run_random_forest_models() takes 0 positional arguments but 1 was given",
     "output_type": "error",
     "traceback": [
      "\u001b[0;31m---------------------------------------------------------------------------\u001b[0m",
      "\u001b[0;31mTypeError\u001b[0m                                 Traceback (most recent call last)",
      "\u001b[0;32m/var/folders/f5/w0p7b4_j2kdg3kvlsz7nhtn40000gn/T/ipykernel_13224/3202306278.py\u001b[0m in \u001b[0;36m<module>\u001b[0;34m\u001b[0m\n\u001b[0;32m----> 1\u001b[0;31m \u001b[0mresults3\u001b[0m \u001b[0;34m=\u001b[0m \u001b[0mmodel\u001b[0m\u001b[0;34m.\u001b[0m\u001b[0mrun_random_forest_models\u001b[0m\u001b[0;34m(\u001b[0m\u001b[0msongs\u001b[0m\u001b[0;34m)\u001b[0m\u001b[0;34m\u001b[0m\u001b[0;34m\u001b[0m\u001b[0m\n\u001b[0m",
      "\u001b[0;31mTypeError\u001b[0m: run_random_forest_models() takes 0 positional arguments but 1 was given"
     ]
    }
   ],
   "source": [
    "results3 = model.run_random_forest_models(songs)"
   ]
  },
  {
   "cell_type": "code",
   "execution_count": null,
   "metadata": {},
   "outputs": [],
   "source": []
  }
 ],
 "metadata": {
  "interpreter": {
   "hash": "3067ead486e059ec00ffe7555bdb889e6e264a24dc711bf108106cc7baee8d5d"
  },
  "kernelspec": {
   "display_name": "Python 3.9.7 ('base')",
   "language": "python",
   "name": "python3"
  },
  "language_info": {
   "codemirror_mode": {
    "name": "ipython",
    "version": 3
   },
   "file_extension": ".py",
   "mimetype": "text/x-python",
   "name": "python",
   "nbconvert_exporter": "python",
   "pygments_lexer": "ipython3",
   "version": "3.9.7"
  },
  "orig_nbformat": 4
 },
 "nbformat": 4,
 "nbformat_minor": 2
}
